{
  "nbformat": 4,
  "nbformat_minor": 0,
  "metadata": {
    "colab": {
      "provenance": [],
      "authorship_tag": "ABX9TyNQeR+mfgY7oxQdDjrXUtYl",
      "include_colab_link": true
    },
    "kernelspec": {
      "name": "python3",
      "display_name": "Python 3"
    },
    "language_info": {
      "name": "python"
    }
  },
  "cells": [
    {
      "cell_type": "markdown",
      "metadata": {
        "id": "view-in-github",
        "colab_type": "text"
      },
      "source": [
        "<a href=\"https://colab.research.google.com/github/jgvroallos/OOP-CPE009B-CPE21S4/blob/main/Python_Classes_OOP.ipynb\" target=\"_parent\"><img src=\"https://colab.research.google.com/assets/colab-badge.svg\" alt=\"Open In Colab\"/></a>"
      ]
    },
    {
      "cell_type": "markdown",
      "source": [
        "# Creating Classes & Creating Instances of Classes"
      ],
      "metadata": {
        "id": "cws1utOxDA0N"
      }
    },
    {
      "cell_type": "code",
      "execution_count": 1,
      "metadata": {
        "id": "Tt2rtKGw9Iiv"
      },
      "outputs": [],
      "source": [
        "class Accounts():\n",
        "  account_number = 0\n",
        "  account_firstname = \"\"\n",
        "  account_lastname = \"\"\n",
        "  current_balance = 0.0\n",
        "  address = \"\"\n",
        "  email = \"\"\n",
        "\n",
        "  def update_address(new_address):\n",
        "    Accounts.address = new_address\n",
        "\n",
        "  def update_email(new_email):\n",
        "    Accounts.email = new_email"
      ]
    },
    {
      "cell_type": "code",
      "source": [
        "class ATM():\n",
        "  serial_number = 0\n",
        "\n",
        "  def deposit(self, account, amount):\n",
        "    account.current_balance = account.current_balance + amount\n",
        "    print(\"Deposit Complete.\")\n",
        "\n",
        "  def withdraw(self, account, amount):\n",
        "    account.current_balance = account.current_balance - amount\n",
        "    print(\"Withdraw Complete.\")\n",
        "\n",
        "  def check_currentbalance(self, account):\n",
        "    print(account.current_balance)"
      ],
      "metadata": {
        "id": "aRy9xVVy9n6P"
      },
      "execution_count": 2,
      "outputs": []
    },
    {
      "cell_type": "code",
      "source": [
        "Account1 = Accounts()\n",
        "\n",
        "print(\"Account 1\")\n",
        "Account1.account_firstname = \"Royce\"\n",
        "Account1.account_lastname = \"Chua\"\n",
        "Account1.current_balance = 1000\n",
        "Account1.address = \"Silver Street Quezon City\"\n",
        "Account1.email = \"roycechua123@gmail.com\"\n",
        "\n",
        "print(Account1.account_firstname)\n",
        "print(Account1.account_lastname)\n",
        "print(Account1.current_balance)\n",
        "print(Account1.address)\n",
        "print(Account1.email)\n",
        "\n",
        "print()\n",
        "\n",
        "Account2 = Accounts()\n",
        "Account2.account_firstname = \"John\"\n",
        "Account2.account_lastname = \"Doe\"\n",
        "Account2.current_balance = 2000\n",
        "Account2.address = \"Gold Street Quezon City\"\n",
        "Account2.email = \"johndoe@yahoo.com\"\n",
        "\n",
        "print(\"Account 2\")\n",
        "print(Account2.account_firstname)\n",
        "print(Account2.account_lastname)\n",
        "print(Account2.current_balance)\n",
        "print(Account2.address)\n",
        "print(Account2.email)"
      ],
      "metadata": {
        "colab": {
          "base_uri": "https://localhost:8080/"
        },
        "id": "qi3CczO1-OMe",
        "outputId": "1fa98dc6-dd88-442e-a62f-a354fddc9e42"
      },
      "execution_count": 16,
      "outputs": [
        {
          "output_type": "stream",
          "name": "stdout",
          "text": [
            "Account 1\n",
            "Royce\n",
            "Chua\n",
            "1000\n",
            "Silver Street Quezon City\n",
            "roycechua123@gmail.com\n",
            "\n",
            "Account 2\n",
            "John\n",
            "Doe\n",
            "2000\n",
            "Gold Street Quezon City\n",
            "johndoe@yahoo.com\n"
          ]
        }
      ]
    },
    {
      "cell_type": "code",
      "source": [
        "ATM1 = ATM()\n",
        "ATM1.deposit(Account1, 500)\n",
        "ATM1.check_currentbalance(Account1)\n",
        "\n",
        "ATM1.deposit(Account2, 300)\n",
        "ATM1.check_currentbalance(Account2)\n"
      ],
      "metadata": {
        "colab": {
          "base_uri": "https://localhost:8080/"
        },
        "id": "CtWGXxspB75M",
        "outputId": "969ca3e1-2020-4256-b298-ebf37aaca308"
      },
      "execution_count": 17,
      "outputs": [
        {
          "output_type": "stream",
          "name": "stdout",
          "text": [
            "Deposit Complete.\n",
            "1500\n",
            "Deposit Complete.\n",
            "2300\n"
          ]
        }
      ]
    },
    {
      "cell_type": "markdown",
      "source": [
        "# Creating Constructors in each Class"
      ],
      "metadata": {
        "id": "TRfJk_3FDNyA"
      }
    },
    {
      "cell_type": "code",
      "source": [
        "class Accounts():\n",
        "  def __init__(self, account_number, account_firstname, account_lastname,\n",
        "               current_balance, address, email):\n",
        "    self.account_number = account_number\n",
        "    self.account_firstname = account_firstname\n",
        "    self.account_lastname = account_lastname\n",
        "    self.current_balance = current_balance\n",
        "    self.address = address\n",
        "    self.email = email\n",
        "\n",
        "  def update_address(new_address):\n",
        "    Accounts.address = new_address\n",
        "\n",
        "  def update_email(new_email):\n",
        "    Accounts.email = new_email"
      ],
      "metadata": {
        "id": "iv8ECPI4DSJy"
      },
      "execution_count": 18,
      "outputs": []
    },
    {
      "cell_type": "code",
      "source": [
        "Account1 = Accounts(123456, \"Royce\", \"Chua\", 1000, \"Silver Street Quezon City\",\n",
        "                    \"roycechua123@gmail.com\")\n",
        "\n",
        "print(\"Account 1\")\n",
        "print(Account1.account_firstname)\n",
        "print(Account1.account_lastname)\n",
        "print(Account1.current_balance)\n",
        "print(Account1.address)\n",
        "print(Account1.email)\n",
        "\n",
        "print()\n",
        "\n",
        "Account2 = Accounts(654321, \"John\", \"Doe\", 2000, \"Gold Street Quezon City\",\n",
        "                    \"johndoe@yahoo.com\")\n",
        "\n",
        "print(\"Account 2\")\n",
        "print(Account2.account_firstname)\n",
        "print(Account2.account_lastname)\n",
        "print(Account2.current_balance)\n",
        "print(Account2.address)\n",
        "print(Account2.email)"
      ],
      "metadata": {
        "colab": {
          "base_uri": "https://localhost:8080/"
        },
        "id": "7_bgQvofDX19",
        "outputId": "dcea6276-1e08-42a2-8faf-f5095c716635"
      },
      "execution_count": 20,
      "outputs": [
        {
          "output_type": "stream",
          "name": "stdout",
          "text": [
            "Account 1\n",
            "Royce\n",
            "Chua\n",
            "1000\n",
            "Silver Street Quezon City\n",
            "roycechua123@gmail.com\n",
            "\n",
            "Account 2\n",
            "John\n",
            "Doe\n",
            "2000\n",
            "Gold Street Quezon City\n",
            "johndoe@yahoo.com\n"
          ]
        }
      ]
    },
    {
      "cell_type": "markdown",
      "source": [
        "# Supplementary Activities"
      ],
      "metadata": {
        "id": "lYAY-dR9HPId"
      }
    },
    {
      "cell_type": "markdown",
      "source": [
        "*Modify the ATM.py program and add the constructor function.*"
      ],
      "metadata": {
        "id": "DIzthITOHXL9"
      }
    },
    {
      "cell_type": "code",
      "source": [
        "class ATM():\n",
        "    def __init__(self, serial_number):\n",
        "      self.serial_number = serial_number\n",
        "\n",
        "    def deposit(self, account, amount):\n",
        "      account.current_balance = account.current_balance + amount\n",
        "      print(\"Deposit Complete.\")\n",
        "\n",
        "    def withdraw(self, account, amount):\n",
        "      account.current_balance = account.current_balance - amount\n",
        "      print(\"Withdraw Complete.\")\n",
        "\n",
        "    def check_currentbalance(self, account):\n",
        "      print(account.current_balance)\n",
        "\n",
        "    def check_serialnumber(self, account):\n",
        "      print(self.serial_number)"
      ],
      "metadata": {
        "id": "NTahz_ffHhLo"
      },
      "execution_count": 32,
      "outputs": []
    },
    {
      "cell_type": "code",
      "source": [
        "Account1 = Accounts(123456, \"Royce\", \"Chua\", 1000, \"Silver Street Quezon City\",\n",
        "                    \"roycechua123@gmail.com\")\n",
        "\n",
        "print(\"Account 1\")\n",
        "print(Account1.account_firstname)\n",
        "print(Account1.account_lastname)\n",
        "print(Account1.current_balance)\n",
        "print(Account1.address)\n",
        "print(Account1.email)\n",
        "\n",
        "print()\n",
        "\n",
        "Account2 = Accounts(654321, \"John\", \"Doe\", 2000, \"Gold Street Quezon City\",\n",
        "                    \"johndoe@yahoo.com\")\n",
        "\n",
        "print(\"Account 2\")\n",
        "print(Account2.account_firstname)\n",
        "print(Account2.account_lastname)\n",
        "print(Account2.current_balance)\n",
        "print(Account2.address)\n",
        "print(Account2.email)\n"
      ],
      "metadata": {
        "colab": {
          "base_uri": "https://localhost:8080/"
        },
        "id": "aeFdP-DOIm67",
        "outputId": "7132504f-0487-4197-c09b-68fd0331e20b"
      },
      "execution_count": 36,
      "outputs": [
        {
          "output_type": "stream",
          "name": "stdout",
          "text": [
            "Account 1\n",
            "Royce\n",
            "Chua\n",
            "1000\n",
            "Silver Street Quezon City\n",
            "roycechua123@gmail.com\n",
            "\n",
            "Account 2\n",
            "John\n",
            "Doe\n",
            "2000\n",
            "Gold Street Quezon City\n",
            "johndoe@yahoo.com\n"
          ]
        }
      ]
    },
    {
      "cell_type": "markdown",
      "source": [
        "*Modify the main.py program and initialize the ATM machine with any integer serial number combination and display the serial number at the end of the program.*"
      ],
      "metadata": {
        "id": "MWV6L3qcN5dF"
      }
    },
    {
      "cell_type": "code",
      "source": [
        "ATM1 = ATM(11111)\n",
        "ATM2 = ATM(22222)\n",
        "\n",
        "ATM1.deposit(Account1, 500)\n",
        "ATM1.check_currentbalance(Account1)\n",
        "ATM1.check_serialnumber()\n",
        "\n",
        "print()\n",
        "\n",
        "ATM2.deposit(Account2, 300)\n",
        "ATM2.check_currentbalance(Account2)\n",
        "ATM2.check_serialnumber()"
      ],
      "metadata": {
        "colab": {
          "base_uri": "https://localhost:8080/"
        },
        "id": "6tTpgeffI6D-",
        "outputId": "8321c81a-8cf7-4344-c878-814664315791"
      },
      "execution_count": 40,
      "outputs": [
        {
          "output_type": "stream",
          "name": "stdout",
          "text": [
            "Deposit Complete.\n",
            "3000\n",
            "11111\n",
            "\n",
            "Deposit Complete.\n",
            "2900\n",
            "22222\n"
          ]
        }
      ]
    }
  ]
}
