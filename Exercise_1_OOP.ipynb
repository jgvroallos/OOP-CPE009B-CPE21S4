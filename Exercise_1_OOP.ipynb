{
  "nbformat": 4,
  "nbformat_minor": 0,
  "metadata": {
    "colab": {
      "provenance": [],
      "toc_visible": true,
      "authorship_tag": "ABX9TyOHzKXELb0BEQRa3ovuOMkA",
      "include_colab_link": true
    },
    "kernelspec": {
      "name": "python3",
      "display_name": "Python 3"
    },
    "language_info": {
      "name": "python"
    }
  },
  "cells": [
    {
      "cell_type": "markdown",
      "metadata": {
        "id": "view-in-github",
        "colab_type": "text"
      },
      "source": [
        "<a href=\"https://colab.research.google.com/github/jgvroallos/OOP-CPE009B-CPE21S4/blob/main/Exercise_1_OOP.ipynb\" target=\"_parent\"><img src=\"https://colab.research.google.com/assets/colab-badge.svg\" alt=\"Open In Colab\"/></a>"
      ]
    },
    {
      "cell_type": "markdown",
      "source": [
        "# Classes in Python"
      ],
      "metadata": {
        "id": "PAx0S_9UFu8x"
      }
    },
    {
      "cell_type": "markdown",
      "source": [
        "Class Constructor"
      ],
      "metadata": {
        "id": "2SwQfvqqFsQX"
      }
    },
    {
      "cell_type": "code",
      "source": [
        "class Number:\n",
        "  def init__(self,x):\n",
        "    x = 1\n",
        "\n",
        "print(Number)"
      ],
      "metadata": {
        "colab": {
          "base_uri": "https://localhost:8080/"
        },
        "id": "DA-oHtMMGUR4",
        "outputId": "58112b74-570d-4ec2-904b-9865cf4bfef9"
      },
      "execution_count": 10,
      "outputs": [
        {
          "output_type": "stream",
          "name": "stdout",
          "text": [
            "<class '__main__.Number'>\n"
          ]
        }
      ]
    },
    {
      "cell_type": "code",
      "source": [
        "class Number:\n",
        "  x = 1\n",
        "\n",
        "print(Number.x)"
      ],
      "metadata": {
        "colab": {
          "base_uri": "https://localhost:8080/"
        },
        "id": "l1OWM4FlFrFv",
        "outputId": "9ac8d140-c237-46d3-a0c6-9791874b1752"
      },
      "execution_count": 2,
      "outputs": [
        {
          "output_type": "stream",
          "name": "stdout",
          "text": [
            "1\n"
          ]
        }
      ]
    },
    {
      "cell_type": "code",
      "execution_count": 12,
      "metadata": {
        "id": "J-L3kxXiBhz0"
      },
      "outputs": [],
      "source": [
        "class Car:\n",
        "  def __init__(self,name,color):\n",
        "    self.name = name\n",
        "    self.color = color"
      ]
    },
    {
      "cell_type": "code",
      "source": [
        "class Person:\n",
        "  def __init__(self, name, age, birthdate):\n",
        "    self.name = name\n",
        "    self.age = age\n",
        "    self.birthdate = birthdate #defining attributes\n",
        "\n",
        "  def person_attribute(self): #method constructor\n",
        "    return f\"My name is {self.name} and with an age of {self.age} and birthday of {self.birthdate}\"\n",
        "\n",
        "#Object Instantiation\n",
        "person = Person('Vincent', 19, '09-19-2004') #behavior/instance\n",
        "print(person.person_attribute())"
      ],
      "metadata": {
        "colab": {
          "base_uri": "https://localhost:8080/"
        },
        "id": "y3RYutRhIg7x",
        "outputId": "7c248edd-dc08-442e-f15d-35f396f50290"
      },
      "execution_count": 19,
      "outputs": [
        {
          "output_type": "stream",
          "name": "stdout",
          "text": [
            "My name is Vincent and with an age of 19 and birthday of 09-19-2004\n"
          ]
        }
      ]
    },
    {
      "cell_type": "markdown",
      "source": [
        "Inheritance"
      ],
      "metadata": {
        "id": "hYZwmfBxNL3t"
      }
    },
    {
      "cell_type": "code",
      "source": [
        "class parent_class:\n",
        " #body of parent_class\n",
        "\n",
        "class child_class(parent_class):\n",
        " #body of child_class"
      ],
      "metadata": {
        "id": "qCmiaLOfLrcc"
      },
      "execution_count": null,
      "outputs": []
    },
    {
      "cell_type": "code",
      "source": [
        "class Person: #super-class or parent class\n",
        "  def __init__(self, name, age, birthdate):\n",
        "    self.name = name\n",
        "    self.age = age\n",
        "    self.birthdate = birthdate #defining attributes\n",
        "\n",
        "  def person_attribute(self): #method constructor\n",
        "    return f\"My name is {self.name} and with an age of {self.age} and birthday of {self.birthdate}\"\n",
        "\n",
        "class Teacher(Person): #sub-class or child class\n",
        "  pass\n",
        "\n",
        "class Student(Person):\n",
        "  pass\n",
        "\n",
        "person = Person('Vincent', 19, '09-19-2004') #behavior/instance of a class\n",
        "print(person.person_attribute())\n",
        "\n",
        "#inheritance of Student class\n",
        "student = Student('Mark', 20, '04-07-2005')\n",
        "print(student.person_attribute())\n",
        "\n",
        "#output of every trait in student variable\n",
        "\n",
        "#print(student.name)\n",
        "#print(student.age)\n",
        "#print(student.birthdate)\n",
        "\n",
        "#inheritance of Teacher class\n",
        "teacher = Teacher('Richard', 35, '01-01-1989')\n",
        "print(teacher.person_attribute())"
      ],
      "metadata": {
        "colab": {
          "base_uri": "https://localhost:8080/"
        },
        "id": "Uq0ZUNHfON1j",
        "outputId": "8563563f-4fc1-4f6f-f531-d1c686f64574"
      },
      "execution_count": 27,
      "outputs": [
        {
          "output_type": "stream",
          "name": "stdout",
          "text": [
            "My name is Vincent and with an age of 19 and birthday of 09-19-2004\n",
            "My name is Mark and with an age of 20 and birthday of 04-07-2005\n",
            "Mark\n",
            "20\n",
            "04-07-2005\n",
            "My name is Richard and with an age of 35 and birthday of 01-01-1989\n"
          ]
        }
      ]
    },
    {
      "cell_type": "markdown",
      "source": [
        "# Challenge"
      ],
      "metadata": {
        "id": "gmPbDmXCQl5U"
      }
    },
    {
      "cell_type": "markdown",
      "source": [
        "Create a Python program that has the ff:\n",
        "- Superclass named \"Shapes\"\n",
        "- Subclasses named \"Rectangle\" & \"Square\"\n",
        "- Methods: Perimeter() & Area()\n",
        "- Object Name: rectangle, square\n",
        "- Inherits the attributes of superclass"
      ],
      "metadata": {
        "id": "rQDMRHJaVjjL"
      }
    },
    {
      "cell_type": "code",
      "source": [
        "class Shapes(): # 1. Superclass named \"Shapes\"\n",
        " def __init__ (self, length = 0, width = 0, side = 0):\n",
        "  self.length = length\n",
        "  self.width = width\n",
        "  self.side = side\n",
        "\n",
        "class Rectangle(Shapes): # 2. Subclass named \"Rectangle\"\n",
        " # 3. Methods of Perimeter & Area\n",
        " def Area_Rect(self):\n",
        "  return self.length * self.width\n",
        "\n",
        " def Perimeter_Rect(self):\n",
        "  return 2 * (self.length + self.width)\n",
        "\n",
        "\n",
        "class Square(Shapes): # 2. Subclass named \"Rectangle\"\n",
        " # 3. Methods of Perimeter & Area\n",
        " def Area_Square(self):\n",
        "  return self.side ** 2\n",
        "\n",
        " def Perimeter_Square(self):\n",
        "  return 4 * self.side\n",
        "\n",
        "# 4. Object Name: rectangle & square\n",
        "rectangle = Rectangle(length = 5, width = 4)\n",
        "square = Square(side = 5)\n",
        "\n",
        "print(\"Area of a Rectangle:\", rectangle.Area_Rect(), \"sq. units\")\n",
        "print(\"Perimeter of a Rectangle:\", rectangle.Perimeter_Rect(), \"units\")\n",
        "print(\"\\nArea of a Square:\", square.Area_Square(), \"sq. units\")\n",
        "print(\"Perimeter of a Square:\", square.Perimeter_Square(), \"units\")"
      ],
      "metadata": {
        "colab": {
          "base_uri": "https://localhost:8080/"
        },
        "id": "HCBewpOPQEEM",
        "outputId": "b13dcc41-c8ff-4d92-8f14-7bb7f511de1b"
      },
      "execution_count": 34,
      "outputs": [
        {
          "output_type": "stream",
          "name": "stdout",
          "text": [
            "Area of a Rectangle: 20 sq. units\n",
            "Perimeter of a Rectangle: 18 units\n",
            "\n",
            "Area of a Square: 25 sq. units\n",
            "Perimeter of a Square: 20 units\n"
          ]
        }
      ]
    }
  ]
}