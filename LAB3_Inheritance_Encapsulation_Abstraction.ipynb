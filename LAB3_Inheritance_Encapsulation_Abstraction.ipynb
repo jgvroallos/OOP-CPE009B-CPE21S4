{
  "nbformat": 4,
  "nbformat_minor": 0,
  "metadata": {
    "colab": {
      "provenance": [],
      "authorship_tag": "ABX9TyNfZhj7CZEbrf+EYwbNNLFK",
      "include_colab_link": true
    },
    "kernelspec": {
      "name": "python3",
      "display_name": "Python 3"
    },
    "language_info": {
      "name": "python"
    }
  },
  "cells": [
    {
      "cell_type": "markdown",
      "metadata": {
        "id": "view-in-github",
        "colab_type": "text"
      },
      "source": [
        "<a href=\"https://colab.research.google.com/github/jgvroallos/OOP-CPE009B-CPE21S4/blob/main/LAB3_Inheritance_Encapsulation_Abstraction.ipynb\" target=\"_parent\"><img src=\"https://colab.research.google.com/assets/colab-badge.svg\" alt=\"Open In Colab\"/></a>"
      ]
    },
    {
      "cell_type": "code",
      "execution_count": 31,
      "metadata": {
        "colab": {
          "base_uri": "https://localhost:8080/"
        },
        "id": "Gt2xZcRfhVs8",
        "outputId": "f6fcd8eb-f5ef-4753-cbbb-2d6e5e2ea831"
      },
      "outputs": [
        {
          "output_type": "stream",
          "name": "stdout",
          "text": [
            "Employee ID: 1, Name: Gabriel Roallos, Address: 135 Manila\n",
            "Employee ID: 2, Name: Vincent Roallos, Address: 246 Rizal\n"
          ]
        }
      ],
      "source": [
        "class Salary:\n",
        "    def __init__(self, salary_id, Salary, cut_off_date, days_of_work):\n",
        "      self.salary_id = salary_id\n",
        "      self.salary = salary\n",
        "      self.cut_off_date = cut_off_date\n",
        "      self.days_of_work = days_of_work\n",
        "\n",
        "    def salary_calc(self):\n",
        "      return self.salary * self.days_of_work\n",
        "\n",
        "class Employee:\n",
        "    def __init__(self, emp_id, emp_name, emp_address):\n",
        "      self.emp_id = emp_id\n",
        "      self.emp_name = emp_name\n",
        "      self.emp_address = emp_address\n",
        "\n",
        "    def __str__(self):\n",
        "        return f\"Employee ID: {self.emp_id}, Name: {self.emp_name}, Address: {self.emp_address}\"\n",
        "\n",
        "class Fulltime(Employee, Salary):\n",
        "    def __init__(self, emp_id, emp_name, emp_address, allowance, rate):\n",
        "      super().__init__(emp_id, emp_name, emp_address)\n",
        "      self.allowance = allowance\n",
        "      self.rate = rate\n",
        "\n",
        "class Parttime(Employee, Salary):\n",
        "    def __init__(self, emp_id, emp_name, emp_address, rate):\n",
        "      super().__init__(emp_id, emp_name, emp_address)\n",
        "      self.rate = rate\n",
        "\n",
        "employee1 = Fulltime(1,'Gabriel Roallos','135 Manila',5,5)\n",
        "print(employee1)\n",
        "\n",
        "employee2 = Parttime(2,'Vincent Roallos','246 Rizal',5)\n",
        "print(employee2)"
      ]
    }
  ]
}