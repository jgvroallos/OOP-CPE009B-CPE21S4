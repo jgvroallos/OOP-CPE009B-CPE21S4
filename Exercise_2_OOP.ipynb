{
  "nbformat": 4,
  "nbformat_minor": 0,
  "metadata": {
    "colab": {
      "provenance": [],
      "authorship_tag": "ABX9TyOZ8D5eP+Gka3pcOOTeAEsu",
      "include_colab_link": true
    },
    "kernelspec": {
      "name": "python3",
      "display_name": "Python 3"
    },
    "language_info": {
      "name": "python"
    }
  },
  "cells": [
    {
      "cell_type": "markdown",
      "metadata": {
        "id": "view-in-github",
        "colab_type": "text"
      },
      "source": [
        "<a href=\"https://colab.research.google.com/github/jgvroallos/OOP-CPE009B-CPE21S4/blob/main/Exercise_2_OOP.ipynb\" target=\"_parent\"><img src=\"https://colab.research.google.com/assets/colab-badge.svg\" alt=\"Open In Colab\"/></a>"
      ]
    },
    {
      "cell_type": "code",
      "execution_count": 8,
      "metadata": {
        "colab": {
          "base_uri": "https://localhost:8080/"
        },
        "id": "gNwLFC2oWOE8",
        "outputId": "7d9d7325-42eb-49eb-d63e-f2fef0ef92a4"
      },
      "outputs": [
        {
          "output_type": "stream",
          "name": "stdout",
          "text": [
            "The value of a is: 3\n",
            "The value of b is: 4\n",
            "The sum of a and b is: 7\n"
          ]
        }
      ],
      "source": [
        "class foo:\n",
        "  def __init__(self, a, b):\n",
        "    self.a = a\n",
        "    self.b = b\n",
        "  def add(self):\n",
        "    return self.a + self.b\n",
        "\n",
        "foo_obj = foo(3,4)\n",
        "\n",
        "print(\"The value of a is:\", foo_obj.a)\n",
        "print(\"The value of b is:\", foo_obj.b)\n",
        "print(\"The sum of a and b is:\", foo_obj.add())"
      ]
    },
    {
      "cell_type": "code",
      "source": [
        "#Example 2\n",
        "#Complete the program by adding object name and\n",
        "#print output variable that display the instance/behavior of every function\n",
        "#Apply encapsulation by typing _ single underscore for private variable"
      ],
      "metadata": {
        "id": "qbEY5vPzahiJ"
      },
      "execution_count": null,
      "outputs": []
    },
    {
      "cell_type": "code",
      "source": [
        "#Class & Behavior Creation\n",
        "class Counter:\n",
        "  def __init__(self):\n",
        "    self._count = 0\n",
        "  def increment(self):\n",
        "    self._count += 1\n",
        "  def value(self):\n",
        "    return self._count\n",
        "  def reset(self):\n",
        "    self._count = 0\n",
        "\n",
        "#Object Creation\n",
        "myCounter = Counter()\n",
        "print(\"The value of counter is:\", myCounter._count,\"\\n\")\n",
        "\n",
        "#Looping of increment instance\n",
        "for i in range(5):\n",
        "  myCounter.increment()\n",
        "  print(\"The value of counter is:\", myCounter.value())\n",
        "\n",
        "#Reset instance\n",
        "print(\"\\nResetting Values...\")\n",
        "myCounter.reset()\n",
        "print(\"The value of counter after reset is:\", myCounter.value())"
      ],
      "metadata": {
        "colab": {
          "base_uri": "https://localhost:8080/"
        },
        "id": "8T2yOQ4kZsvV",
        "outputId": "1640349c-e80b-4b5b-e719-51dbe9cfc7ae"
      },
      "execution_count": 22,
      "outputs": [
        {
          "output_type": "stream",
          "name": "stdout",
          "text": [
            "The value of counter is: 0 \n",
            "\n",
            "The value of counter is: 1\n",
            "The value of counter is: 2\n",
            "The value of counter is: 3\n",
            "The value of counter is: 4\n",
            "The value of counter is: 5\n",
            "\n",
            "Resetting Values...\n",
            "The value of counter after reset is: 0\n"
          ]
        }
      ]
    }
  ]
}